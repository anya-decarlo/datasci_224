{
 "cells": [
  {
   "cell_type": "markdown",
   "id": "43e0c2ad-c4c1-42da-8181-6d76bec34e0e",
   "metadata": {
    "id": "43e0c2ad-c4c1-42da-8181-6d76bec34e0e"
   },
   "source": [
    "Welcome to Homework 3! The goal of this homework is to better understand generative models by implementing Probabilistic PCA on your own."
   ]
  },
  {
   "cell_type": "markdown",
   "id": "5b034214",
   "metadata": {},
   "source": [
    "Q1: Describe the model for PPCA in terms of the mean vector $\\mu$, the matrix $B$ describing the linear transformation from the latent data $z$ to the observed data $x$, and the variance $\\sigma^2$ of the isotropic Gaussian noise in the observed data. What are the model parameters that need to be estimated and what are their dimensions? When describing the probability model, be explicit regarding the dimensions of random variables/vectors. (5 points)"
   ]
  },
  {
   "cell_type": "markdown",
   "id": "c03157a3",
   "metadata": {},
   "source": [
    "PPCA aims to identify a low-dimensional linear subspace (the loading matrix $B$), the mean $\\mu$ of the data, and the variance $\\sigma^2$ of the isotropic Gaussian noise in the observed data that maxamimze the likelihood of the observed data under a simple Gaussian latent variable model. In PPCA we’re doing a maximum‐likelihood fit of a Gaussian latent-variable model. \n",
    "\n",
    "In this way, PPCA provides a statistical foundation for dimensionality reduction by explicitly modeling the generative process of high-dimensional data. The model captures how low dimensional latent factors give rise to observed data through a linear transformation with uncertainty.\n",
    "\n",
    "The PPCA model posits that each observed data point arises from the following process:\n",
    "\n",
    "First, we consider a latent vector $z$ of dimension $m$, where $m$ is substantially smaller than the observed dimension $D$. This latent vector follows a standard Gaussian distribution in $m$-dimensional space, i.e. a cloud of probability centered at the origin with unit variance in all directions.\n",
    "\n",
    "Next, this latent representation undergoes a linear transformation through the loading matrix $B$ (dimensions $D \\times m$), which maps the low-dimensional latent space to the higher-dimensional observed space. This transformation captures the principal directions of variation in the data.\n",
    "\n",
    "The transformed latent vector is then shifted by the mean vector $\\mu$ (dimension $D$), representing the central tendency of the observed data distribution.\n",
    "\n",
    "Finally, to account for measurement noise and variation not captured by the $m$ principal components, isotropic Gaussian noise with variance $\\sigma^2$ is added independently to each dimension of the observed space.\n",
    "\n",
    "This results in a conditional Gaussian distribution for the observed data given the latent variables, with mean $\\mu + Bz$ and covariance $\\sigma^2I_D$. When we marginalize out the latent variables, the observed data follows a Gaussian distribution with mean $\\mu$ and covariance $BB^T + \\sigma^2I_D$, decomposing the total variance into structured variation (captured by $BB^T$) and unstructured noise ($\\sigma^2I_D$).\n",
    "\n",
    "The parameters requiring estimation are:\n",
    "\n",
    "* The mean vector $\\mu$ (dimension $D$), represents the center of the data cloud\n",
    "* The loading matrix $B$ (dimension $D \\times m$), defines the principal subspace\n",
    "* The noise variance $\\sigma^2$ (a positive scalar), quantifies the residual variance\n",
    "\n"
   ]
  },
  {
   "cell_type": "markdown",
   "id": "fe7d2f60",
   "metadata": {},
   "source": [
    "Q2: Based on your description, implement a function for generating `n` observations from a PPCA model, which takes in as arguments the mean vector $\\mu$, the matrix $B$, the variance $\\sigma^2$ of the isotropic Gaussian noise in the observed data, and the number of observations $n$. (5 points)"
   ]
  },
  {
   "cell_type": "code",
   "execution_count": null,
   "id": "151125f3",
   "metadata": {},
   "outputs": [],
   "source": [
    "import numpy as np\n",
    "\n",
    "def generate_ppca(mu: np.ndarray, B: np.ndarray, sigma2: float, n: int) -> np.ndarray:\n",
    "    \"\"\"\n",
    "    Generate n observations from a PPCA model:\n",
    "        z ~ N(0, I_q)\n",
    "        x = mu + B z + eps,   eps ~ N(0, sigma2 I_D)\n",
    "    \n",
    "    Args:\n",
    "        mu     : np.ndarray of shape (D,) or (D,1) - the data mean\n",
    "        B      : np.ndarray of shape (D, q) - the loading matrix\n",
    "        sigma2 : float - noise variance\n",
    "        n      : int - number of samples to draw\n",
    "\n",
    "    Returns:\n",
    "        X : np.ndarray of shape (n, D) - generated data points\n",
    "    \"\"\"\n",
    "    mu = np.asarray(mu).reshape(1, -1)     # (1, D)\n",
    "    B = np.asarray(B)                      # (D, q)\n",
    "    D, q = B.shape\n",
    "\n",
    "    # --- draw latent z’s ---\n",
    "    Z = np.random.randn(n, q)              # (n, q)\n",
    "\n",
    "    # --- map to data space ---\n",
    "    XB = Z.dot(B.T)                        # (n, D)\n",
    "\n",
    "    # --- add mean ---\n",
    "    XB += mu                               # broadcast to (n, D)\n",
    "\n",
    "    # --- add isotropic noise ---\n",
    "    noise = np.random.randn(n, D) * np.sqrt(sigma2)\n",
    "    X = XB + noise\n",
    "\n",
    "    return X"
   ]
  },
  {
   "cell_type": "markdown",
   "id": "00702b0b",
   "metadata": {},
   "source": [
    "Q3: What is the closed form solution for PPCA from maximum likelihood estimation? Provide the equations. Be explicit with all dimensions. Make sure all notation used is defined. (5 points)"
   ]
  },
  {
   "cell_type": "markdown",
   "id": "faeb7d03",
   "metadata": {},
   "source": [
    "\n",
    "**Assumptions**\n",
    "\n",
    "* Observed data matrix $X \\in \\mathbb{R}^{n \\times D}$ has **rows = observations** and **columns = features**.  \n",
    "* Latent dimensionality $q < D$.  \n",
    "* Generative model:  \n",
    "  * Latent code $z \\in \\mathbb{R}^{q}$ with prior $p(z)=\\mathcal{N}(0,I_q)$.  \n",
    "  * Observation $x \\mid z \\sim \\mathcal{N}(\\mu + Bz, \\sigma^{2} I_D)$.  \n",
    "    * $\\mu \\in \\mathbb{R}^{D}$ — mean of the data.  \n",
    "    * $B \\in \\mathbb{R}^{D \\times q}$ — loading (linear-map) matrix.  \n",
    "    * $\\sigma^{2}\\in\\mathbb{R}_{>0}$ — isotropic noise variance.  \n",
    "\n",
    "---\n",
    "    \n",
    "  * **Parameters**:\n",
    "    * $\\mu \\in \\mathbb{R}^{D}$ — global mean vector with $D$ elements (one per feature)\n",
    "    * $B \\in \\mathbb{R}^{D \\times q}$ — loading matrix that maps each latent dimension to its effect on each observed dimension\n",
    "      * Each column of $B$ represents how one latent factor influences all $D$ observed variables\n",
    "      * Each row of $B$ represents how all $q$ latent factors influence one observed variable\n",
    "    * $\\sigma^{2} \\in \\mathbb{R}_{>0}$ — positive scalar representing the variance of the observation noise in each dimension\n",
    "      * Isotropic defined as equal variance in all directions (spherical noise)\n",
    "---\n",
    "**Notation and variables:**\n",
    "- $X \\in \\mathbb{R}^{n \\times D}$: data matrix with $n$ observations and $D$ dimensions\n",
    "- $x_n \\in \\mathbb{R}^D$: the $n$-th data point (row of $X$, written as a column vector)\n",
    "- $q < D$: chosen dimensionality of the latent space/factors\n",
    "- $\\hat{\\mu} \\in \\mathbb{R}^D$: estimated mean vector\n",
    "- $x_n^c \\in \\mathbb{R}^D$: centered data point ($x_n - \\hat{\\mu}$)\n",
    "- $S \\in \\mathbb{R}^{D \\times D}$: sample covariance matrix\n",
    "- $U \\in \\mathbb{R}^{D \\times D}$: orthogonal matrix of eigenvectors of $S$\n",
    "- $\\Lambda \\in \\mathbb{R}^{D \\times D}$: diagonal matrix of eigenvalues of $S$\n",
    "- $\\lambda_j \\in \\mathbb{R}$: $j$-th eigenvalue of $S$ (in descending order)\n",
    "- $U_q \\in \\mathbb{R}^{D \\times q}$: first $q$ columns of $U$ (principal eigenvectors)\n",
    "- $\\Lambda_q \\in \\mathbb{R}^{q \\times q}$: diagonal matrix of first $q$ eigenvalues\n",
    "- $\\hat{\\sigma}^2 \\in \\mathbb{R}_{>0}$: estimated isotropic noise variance\n",
    "- $I_q \\in \\mathbb{R}^{q \\times q}$: $q \\times q$ identity matrix\n",
    "- $R \\in \\mathbb{R}^{q \\times q}$: arbitrary orthogonal rotation matrix\n",
    "- $\\hat{B} \\in \\mathbb{R}^{D \\times q}$: estimated loading matrix\n",
    "---\n",
    "\n",
    "**Closed Form Solution**\n",
    "\n",
    "1. **Data mean**  \n",
    "   $\\hat{\\mu} = \\frac{1}{n}\\sum_{n=1}^n x_n \\in \\mathbb{R}^D$,  \n",
    "   $x_n^c = x_n - \\hat{\\mu}$\n",
    "\n",
    "2. **Sample covariance and eigen-decomposition**  \n",
    "   $S = \\frac{1}{n}\\sum_{n=1}^n x_n^c (x_n^c)^{\\top} = U\\Lambda U^{\\top}$,  \n",
    "   \n",
    "   where $U \\in \\mathbb{R}^{D \\times D}$ is orthogonal and $\\Lambda = \\text{diag}(\\lambda_1,\\dots,\\lambda_D)$ with $\\lambda_1 \\geq \\cdots \\geq \\lambda_D$.\n",
    "\n",
    "3. **Noise variance**  \n",
    "   $\\hat{\\sigma}^2 = \\frac{1}{D-q}\\sum_{j=q+1}^{D}\\lambda_j$, $\\hat{\\sigma}^2 \\in \\mathbb{R}$\n",
    "\n",
    "4. **Loading matrix**  \n",
    "   Let $U_q = [u_1,\\dots,u_q] \\in \\mathbb{R}^{D \\times q}$,  \n",
    "   $\\Lambda_q = \\text{diag}(\\lambda_1,\\dots,\\lambda_q) \\in \\mathbb{R}^{q \\times q}$  \n",
    "   \n",
    "   For any orthogonal $R \\in \\mathbb{R}^{q \\times q}$,  \n",
    "   $\\hat{B} = U_q (\\Lambda_q - \\hat{\\sigma}^2 I_q)^{1/2} R$, $\\hat{B} \\in \\mathbb{R}^{D \\times q}$  \n",
    "   \n",
    "   A common choice is $R = I_q$."
   ]
  },
  {
   "cell_type": "markdown",
   "id": "7ee1488f",
   "metadata": {},
   "source": [
    "Q4: Implement a function that performs maximum likelihood estimation for PPCA. The function should take in the observed data and the dimension of the latent factors $m$. It should return $\\hat{\\mu}, \\hat{B},$ and $\\hat{\\sigma}^2$. (15 points)"
   ]
  },
  {
   "cell_type": "code",
   "execution_count": null,
   "id": "eae91a98",
   "metadata": {},
   "outputs": [],
   "source": [
    "import numpy as np\n",
    "from numpy.linalg import eigh\n",
    "\n",
    "def ppca_mle(X: np.ndarray, m: int) -> tuple[np.ndarray, np.ndarray, float]:\n",
    "    \"\"\"\n",
    "    Maximum–likelihood estimation for Probabilistic PCA (Tipping & Bishop, 1999).\n",
    "\n",
    "    Parameters\n",
    "    ----------\n",
    "    X : ndarray of shape (n_samples, D)\n",
    "        Observed data matrix. Rows are samples, columns are observed dimensions.\n",
    "    m : int\n",
    "        Latent dimensionality (number of principal components to retain).\n",
    "        Must satisfy 1 ≤ m < D.\n",
    "\n",
    "    Returns\n",
    "    -------\n",
    "    mu_hat : ndarray of shape (D,)\n",
    "        Estimated data mean vector.\n",
    "    B_hat : ndarray of shape (D, m)\n",
    "        Estimated loading matrix (sometimes denoted W).\n",
    "    sigma2_hat : float\n",
    "        Estimated isotropic noise variance.\n",
    "\n",
    "    Notes\n",
    "    -----\n",
    "    The solution maximises the likelihood under the PPCA model\n",
    "\n",
    "        z  ~  N(0, I_m)\n",
    "        x | z  ~  N(mu + B z, σ² I_D).\n",
    "\n",
    "    The closed-form ML estimates are:\n",
    "\n",
    "        μ̂      = sample mean  \n",
    "        σ̂²     = (1/(D-m)) Σ_{j=m+1}^D λ_j  \n",
    "        B̂      = U_m (Λ_m – σ̂² I)^{1/2} R\n",
    "\n",
    "    where {λ_j, U_j} are the eigenpairs of the sample covariance matrix S,\n",
    "    Λ_m = diag(λ_1, …, λ_m), and R is any orthogonal matrix (we take R = I).\n",
    "    \"\"\"\n",
    "    # ---------- basic checks ----------\n",
    "    if X.ndim != 2:\n",
    "        raise ValueError(\"X must be a 2-D array (n_samples × D).\")\n",
    "    n, D = X.shape\n",
    "    if not 1 <= m < D:\n",
    "        raise ValueError(f\"m must satisfy 1 ≤ m < D (= {D}).\")\n",
    "\n",
    "    # ---------- centre data ----------\n",
    "    mu_hat = X.mean(axis=0)\n",
    "    X_centered = X - mu_hat\n",
    "\n",
    "    # ---------- sample covariance ----------\n",
    "    # using (1/n) rather than (1/(n-1)) because we are in an ML setting\n",
    "    S = (X_centered.T @ X_centered) / n      # shape: (D, D)\n",
    "\n",
    "    # ---------- eigen-decomposition ----------\n",
    "    # eigh returns ascending order; reverse for descending\n",
    "    eigvals, eigvecs = eigh(S)\n",
    "    eigvals, eigvecs = eigvals[::-1], eigvecs[:, ::-1]\n",
    "\n",
    "    # ---------- noise variance ----------\n",
    "    sigma2_hat = float(np.mean(eigvals[m:]))   # eq. (12) in Tipping & Bishop\n",
    "\n",
    "    # ---------- loading matrix ----------\n",
    "    # choose R = I (any orthogonal rotation is ML-equivalent)\n",
    "    Lambda_m = np.diag(np.sqrt(np.maximum(eigvals[:m] - sigma2_hat, 0.0)))\n",
    "    B_hat = eigvecs[:, :m] @ Lambda_m          # eq. (11)\n",
    "\n",
    "    return mu_hat, B_hat, sigma2_hat"
   ]
  },
  {
   "cell_type": "markdown",
   "id": "5dabe287",
   "metadata": {},
   "source": [
    "Q5: Test out your implementation of PPCA. Generate data using your function from Q2. Generate $n=1000$ observations with $m=2$ latent dimensions, $p=4$ observed dimensions, $\\mu=\\vec{0}_4$, $B = np.array([[1,1],[0,1],[1,0],[1,-1]])$, and $\\sigma^2 = 0.25$. What are your estimates for the model parameters? How close are your estimated parameters for $\\mu$ and $\\sigma^2$ to the truth? To check your estimate for $B$, check that $\\hat{B} \\hat{B}^\\top$ is close to $B B^\\top$. (Hint: Your solution should be pretty close.) (5 points)"
   ]
  },
  {
   "cell_type": "code",
   "execution_count": 16,
   "id": "d236e178",
   "metadata": {},
   "outputs": [
    {
     "name": "stdout",
     "output_type": "stream",
     "text": [
      "mu_hat: [ 0.10294883  0.03488957 -0.00653038 -0.02921555]\n",
      "mu: [0. 0. 0. 0.]\n",
      "sigma2_hat: 0.2460923471957588\n",
      "sigma: 0.25\n",
      "BBT_hat: [[ 1.99415744  1.03044633  0.95980023 -0.10536937]\n",
      " [ 1.03044633  1.04454757  0.00601647 -1.07027492]\n",
      " [ 0.95980023  0.00601647  0.93071995  0.92119547]\n",
      " [-0.10536937 -1.07027492  0.92119547  2.02068277]]\n",
      "BBT_true: [[ 2  1  1  0]\n",
      " [ 1  1  0 -1]\n",
      " [ 1  0  1  1]\n",
      " [ 0 -1  1  2]]\n",
      "Mean error: 0.112747\n",
      "BBT relative error: 0.056227\n",
      "Noise variance relative error: 0.015631\n",
      "\n",
      "Validation results:\n",
      "Mean estimation: FAIL\n",
      "Covariance structure: PASS\n",
      "Noise variance: PASS\n"
     ]
    }
   ],
   "source": [
    "import numpy as np\n",
    "\n",
    "# --- Set seed for reproducibility ---\n",
    "np.random.seed(42)\n",
    "\n",
    "# --- Define parameters ---\n",
    "mu = np.zeros(4)\n",
    "B = np.array([[1, 1],\n",
    "              [0, 1],\n",
    "              [1, 0],\n",
    "              [1, -1]])\n",
    "sigma = 0.25 \n",
    "n = 1000\n",
    "\n",
    "# --- Generate data ---\n",
    "\n",
    "X = generate_ppca(mu = mu, B = B, sigma2 = sigma, n = n)\n",
    "\n",
    "# --- Fit PPCA ---\n",
    "\n",
    "mu_hat, B_hat, sigma2_hat = ppca_mle(X, m = 2)\n",
    "\n",
    "# --- Compute estimates ---\n",
    "\n",
    "BBT_hat = B_hat @ B_hat.T\n",
    "BBT_true = B @ B.T\n",
    "\n",
    "print(\"mu_hat:\", mu_hat)\n",
    "print(\"mu:\", mu)\n",
    "print(\"sigma2_hat:\", sigma2_hat)\n",
    "print(\"sigma:\", sigma)\n",
    "print(\"BBT_hat:\", BBT_hat)\n",
    "print(\"BBT_true:\", BBT_true)\n",
    "\n",
    "# --- Check estimates ---\n",
    "mu_error = np.linalg.norm(mu_hat) if np.allclose(mu, 0) else np.linalg.norm(mu_hat - mu) / np.linalg.norm(mu)\n",
    "print(f\"Mean error: {mu_error:.6f}\")\n",
    "BBT_rel_error = np.linalg.norm(BBT_hat - BBT_true, 'fro') / np.linalg.norm(BBT_true, 'fro')\n",
    "print(f\"BBT relative error: {BBT_rel_error:.6f}\")\n",
    "sigma2_rel_error = abs(sigma2_hat - sigma) / sigma\n",
    "print(f\"Noise variance relative error: {sigma2_rel_error:.6f}\")\n",
    "\n",
    "# --- Validation ---\n",
    "print(\"\\nValidation results:\")\n",
    "print(f\"Mean estimation: {'PASS' if mu_error < 0.10 else 'FAIL'}\")\n",
    "print(f\"Covariance structure: {'PASS' if BBT_rel_error < 0.10 else 'FAIL'}\")\n",
    "print(f\"Noise variance: {'PASS' if sigma2_rel_error < 0.10 else 'FAIL'}\")\n"
   ]
  },
  {
   "cell_type": "markdown",
   "id": "d98cce15",
   "metadata": {},
   "source": [
    "Q6: We will now apply PPCA to the MNIST digit dataset, but only for images of the digit zero. Import and filter the MNIST digit dataset to only images of the digit zero using the following code. Then use the `visualize_digits` function to visualize the first four digits in this dataset. (1 point)\n",
    "```\n",
    "from sklearn import datasets\n",
    "from matplotlib import pyplot as plt\n",
    "\n",
    "# Load the data\n",
    "digits = datasets.load_digits()\n",
    "\n",
    "# filter for digit zero\n",
    "zero_idxs = digits.target == 0\n",
    "mnist0_imgs = digits.images[zero_idxs]\n",
    "\n",
    "# flatten the images into vectors\n",
    "mnist0_X = mnist0_imgs.reshape((len(mnist0_imgs), -1))\n",
    "\n",
    "def visualize_digits(mnist_flattened_X):\n",
    "    # This function will visualize the first 4 digits in the provided data\n",
    "    _, axes = plt.subplots(nrows=1, ncols=4, figsize=(10, 3))\n",
    "    for ax, image in zip(axes, mnist_flattened_X):\n",
    "        ax.set_axis_off()\n",
    "        image = image.reshape(8, 8)\n",
    "        ax.imshow(image, cmap=plt.cm.gray_r, interpolation=\"nearest\")\n",
    "```"
   ]
  },
  {
   "cell_type": "code",
   "execution_count": 22,
   "id": "8c652c7e",
   "metadata": {},
   "outputs": [],
   "source": [
    "from sklearn import datasets\n",
    "from matplotlib import pyplot as plt\n",
    "\n",
    "# --- Load the data ---\n",
    "digits = datasets.load_digits()\n",
    "\n",
    "# --- Filter for digit zero ---\n",
    "zero_idxs = digits.target == 0\n",
    "mnist0_imgs = digits.images[zero_idxs]\n",
    "\n",
    "# --- Flatten the images into vectors ---\n",
    "mnist0_X = mnist0_imgs.reshape((len(mnist0_imgs), -1))\n",
    "\n",
    "def visualize_digits(mnist_flattened_X):\n",
    "    # This function will visualize the first 4 digits in the provided data\n",
    "    _, axes = plt.subplots(nrows=1, ncols=4, figsize=(10, 3))\n",
    "    for ax, image in zip(axes, mnist_flattened_X):\n",
    "        ax.set_axis_off()\n",
    "        image = image.reshape(28, 28)\n",
    "        ax.imshow(image, cmap=plt.cm.gray_r, interpolation=\"nearest\")"
   ]
  },
  {
   "cell_type": "markdown",
   "id": "861e47ae",
   "metadata": {},
   "source": [
    "Q7: Apply your PPCA model fitting code to the MNIST dataset, restricting to only those images of the digit zero. Use latent dimension 3 to fit the PPCA model. (1 point)"
   ]
  },
  {
   "cell_type": "code",
   "execution_count": 23,
   "id": "f3b70c1c",
   "metadata": {},
   "outputs": [
    {
     "name": "stdout",
     "output_type": "stream",
     "text": [
      "μ̂ shape: (784,)\n",
      "B̂ shape: (784, 3)\n",
      "σ̂²: 0.0396\n"
     ]
    }
   ],
   "source": [
    "import numpy as np\n",
    "from sklearn.datasets import fetch_openml\n",
    "\n",
    "# --- Load and filter MNIST zeros ---\n",
    "mnist = fetch_openml('mnist_784', version=1, as_frame=False)\n",
    "X = mnist.data.astype(float)[mnist.target.astype(int) == 0] / 255.0  # (n_zeros, 784)\n",
    "\n",
    "# --- Fit PPCA (latent dim = 3) ---\n",
    "mu_hat, B_hat, sigma2_hat = ppca_mle(X, 3)\n",
    "\n",
    "# --- Report shapes & noise variance ---\n",
    "print(f\"μ̂ shape: {mu_hat.shape}\")\n",
    "print(f\"B̂ shape: {B_hat.shape}\")\n",
    "print(f\"σ̂²: {sigma2_hat:.4f}\")"
   ]
  },
  {
   "cell_type": "markdown",
   "id": "8d1b2784",
   "metadata": {},
   "source": [
    "Q8: Now generate four images of the digit zero using your fitted model (use the function you implemented in Q2)! Visualize your generated images using the helper function `visualize_digits`. Note that you might need to cast the generated data to float and truncate any generated pixel values smaller than zero. (3 points)"
   ]
  },
  {
   "cell_type": "code",
   "execution_count": 24,
   "id": "2bd1110c",
   "metadata": {},
   "outputs": [
    {
     "data": {
      "image/png": "[encoded data removed]",
      "text/plain": [
       "<Figure size 1000x300 with 4 Axes>"
      ]
     },
     "metadata": {},
     "output_type": "display_data"
    }
   ],
   "source": [
    "# --- Generate 4 new “0” images from the fitted PPCA model ---\n",
    "X_gen = generate_ppca(mu_hat, B_hat, sigma2_hat, n=4).astype(float)\n",
    "\n",
    "# --- Truncate negatives (pixels can’t go below 0) ---\n",
    "X_gen = np.clip(X_gen, 0.0, None)\n",
    "\n",
    "# --- Visualize with the provided helper (expects shape (n, 784)) ---\n",
    "visualize_digits(X_gen)"
   ]
  }
 ],
 "metadata": {
  "colab": {
   "provenance": []
  },
  "kernelspec": {
   "display_name": "base",
   "language": "python",
   "name": "python3"
  },
  "language_info": {
   "codemirror_mode": {
    "name": "ipython",
    "version": 3
   },
   "file_extension": ".py",
   "mimetype": "text/x-python",
   "name": "python",
   "nbconvert_exporter": "python",
   "pygments_lexer": "ipython3",
   "version": "3.12.9"
  }
 },
 "nbformat": 4,
 "nbformat_minor": 5
}
