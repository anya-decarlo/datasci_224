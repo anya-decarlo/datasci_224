{
  "cells": [
    {
      "cell_type": "markdown",
      "metadata": {
        "id": "43e0c2ad-c4c1-42da-8181-6d76bec34e0e"
      },
      "source": [
        "Welcome to Lab 1! We are going to get started right away and have you prove to yourself that you can learn a new ML algorithm on your own, using only the concepts you've learned in Lecture 1.\n",
        "\n",
        "**Naive Bayes**\n",
        "Naive Bayes (NB) is a simple, yet often effective, probabilistic classification technique. NB algorithms is primarily known for its ability to classify documents. Well-known examples include identifying spam emails and predicting categories and sentiment in tweets, web pages, etc.\n",
        "\n",
        "Helpful learning resources:\n",
        "* https://scikit-learn.org/stable/modules/naive_bayes.html\n",
        "* https://en.wikipedia.org/wiki/Naive_Bayes_classifier\n",
        "* https://www.cs.cmu.edu/~tom/mlbook/NBayesLogReg.pdf\n",
        "* Working with text data: https://scikit-learn.org/stable/tutorial/text_analytics/working_with_text_data.html\n",
        "* Let me know if you find anything else!\n",
        "\n",
        "Concepts you'll need from Lecture 1:\n",
        "* Probability distributions\n",
        "* Bayes' rule\n",
        "* Maximum likelihood estimation\n",
        "\n",
        "After learning the NB algorithm, we will use it to classify tweets about the COVID pandemic based on their sentiment (e.g. extremely positive, positive, negative, extremely negative). The dataset available for the lab was downloaded from https://www.kaggle.com/datasets/datatattle/covid-19-nlp-text-classification."
      ]
    },
    {
      "cell_type": "markdown",
      "metadata": {
        "id": "264cfd00-ec55-45ce-b999-3c86a475d348"
      },
      "source": [
        "**How does the Naive Bayes algorithm work? (Answers do not require coding)**"
      ]
    },
    {
      "cell_type": "markdown",
      "metadata": {
        "id": "a7fb083d-5e51-44e7-8ce2-3ff1c9c0de20"
      },
      "source": [
        "Half of you will read 1.9-1.9.2 in https://scikit-learn.org/stable/modules/naive_bayes.html. Half of you will read the following sections in the wikipedia entry https://en.wikipedia.org/wiki/Naive_Bayes_classifier: \"Probabilistic model\" and \"Multinomial naive Bayes\". Then you will be grouped together to discuss answers to these questions. Each of the resources emphasize different points, so you might need to work together to answer all these questions!\n",
        "\n",
        "Each group will be asked to send a different representative for each question to the whiteboard to present the group's answer and explain the group's reasoning. \n",
        "\n",
        "For simplicity, it can be helpful to start with thinking about the simplest data setting: we want to classify data into two classes where we have access to $p$ features. That is, let $X = (X_1,\\cdots, X_p)$ be the features and $Y$ be the outcome.  $Y$ can only take on values of 0 or 1."
      ]
    },
    {
      "cell_type": "markdown",
      "id": "bad732b2",
      "metadata": {},
      "source": []
    }
  ],
  "metadata": {
    "kernelspec": {
      "display_name": "Python 3",
      "language": "python",
      "name": "python3"
    },
    "language_info": {
      "codemirror_mode": {
        "name": "ipython",
        "version": 3
      },
      "file_extension": ".py",
      "mimetype": "text/x-python",
      "name": "python",
      "nbconvert_exporter": "python",
      "pygments_lexer": "ipython3",
      "version": "3.8.8"
    }
  },
  "nbformat": 4,
  "nbformat_minor": 5
}
