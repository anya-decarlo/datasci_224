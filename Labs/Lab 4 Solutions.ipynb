{
 "cells": [
  {
   "cell_type": "markdown",
   "id": "43e0c2ad-c4c1-42da-8181-6d76bec34e0e",
   "metadata": {
    "id": "43e0c2ad-c4c1-42da-8181-6d76bec34e0e"
   },
   "source": [
    "Welcome to Lab 4! You've probably learned about Random Forests (RF) previously (e.g. Biostat216). Let's now try to understand RF more deeply and connect it with things we learned in class.\n",
    "\n",
    "Here are helpful materials:\n",
    "* ESL (https://hastie.su.domains/ElemStatLearn/) Chapter 15: Sections 15-15.2 (Algorithm 15.1 in particular)\n",
    "* https://en.wikipedia.org/wiki/Random_forest\n",
    "* https://mlu-explain.github.io/random-forest/"
   ]
  },
  {
   "cell_type": "markdown",
   "id": "0172753f",
   "metadata": {},
   "source": [
    "Form 3 groups. Each group will be assigned to read one of the three materials shown above. Given the materials, we will try to answer the following questions. For each question, each group will be asked to share their answers at the whiteboard. Be prepared to explain the group's answer and reasoning."
   ]
  },
  {
   "cell_type": "markdown",
   "id": "e0a1ff8e",
   "metadata": {},
   "source": [
    "Hint: This lab should be somewhat helpful for completing HW2! :)"
   ]
  },
  {
   "cell_type": "markdown",
   "id": "ec491726",
   "metadata": {},
   "source": [
    "Q1: Based on the materials you have been assigned to read, what is a random forest? What type of data is it intended to model? What's the difference between a random forest and bagging? Draw out how a random forest model is trained."
   ]
  },
  {
   "cell_type": "markdown",
   "id": "9f59f877",
   "metadata": {},
   "source": [
    "Q2: Now look at the documentation for RF models at https://scikit-learn.org/stable/modules/generated/sklearn.ensemble.RandomForestClassifier.html. What do each of the parameters mean? How would you use each of them?"
   ]
  },
  {
   "cell_type": "markdown",
   "id": "79d3b26d",
   "metadata": {},
   "source": [
    "Q3: Write the pseudocode for a random forest, assuming you only had access to the following function in sklearn: https://scikit-learn.org/stable/modules/generated/sklearn.tree.DecisionTreeClassifier.html. That is, how would you implement an RF from scratch?"
   ]
  },
  {
   "cell_type": "markdown",
   "id": "9f966cd4",
   "metadata": {},
   "source": [
    "Q4: Now implement a simple RF model based on your pseudocode. Implement both a `fit` function and a `predict` function. Hint: first define the APIs before implementing the code. (Code required)"
   ]
  },
  {
   "cell_type": "code",
   "execution_count": null,
   "id": "b86273b5",
   "metadata": {},
   "outputs": [],
   "source": [
    "import numpy as np\n",
    "from sklearn.tree import DecisionTreeClassifier\n",
    "\n",
    "def fit(X, y, B):\n",
    "    trees = []\n",
    "    for i in range(B):\n",
    "        rand_idxs = np.random.choice(X.shape[0], X.shape[0], replace=True)\n",
    "        tree = DecisionTreeClassifier()\n",
    "        tree.fit(X.iloc[rand_idxs], y.iloc[rand_idxs])\n",
    "        trees.append(tree)\n",
    "    return trees\n",
    "\n",
    "def predict(trees, X):\n",
    "    predictions = [tree.predict(X)[:, np.newaxis] for tree in trees]\n",
    "    predictions = np.concatenate(predictions, axis=1)\n",
    "    return np.mean(predictions, axis=1)"
   ]
  },
  {
   "cell_type": "markdown",
   "id": "20967298",
   "metadata": {},
   "source": [
    "Q5: Load the Breast Cancer Wisconsin (Diagnosis) dataset from the UCI ML repository (https://archive.ics.uci.edu/dataset/17/breast+cancer+wisconsin+diagnostic) using the following starter code:\n",
    "```\n",
    "from ucimlrepo import fetch_ucirepo\n",
    "\n",
    "breast_cancer_wisconsin_diagnostic = fetch_ucirepo(id=17) \n",
    "X = breast_cancer_wisconsin_diagnostic.data.features \n",
    "y = breast_cancer_wisconsin_diagnostic.data.targets == \"M\"\n",
    "```\n",
    "Fit an RF to this data using Sklearn as well as using your implementation. What is the training performance of the two RFs? (Code required)"
   ]
  },
  {
   "cell_type": "code",
   "execution_count": 17,
   "id": "f8eae073",
   "metadata": {},
   "outputs": [
    {
     "data": {
      "text/plain": [
       "(569, 30)"
      ]
     },
     "execution_count": 17,
     "metadata": {},
     "output_type": "execute_result"
    }
   ],
   "source": [
    "from ucimlrepo import fetch_ucirepo\n",
    "from sklearn.ensemble import RandomForestClassifier\n",
    "\n",
    "breast_cancer_wisconsin_diagnostic = fetch_ucirepo(id=17) \n",
    "X = breast_cancer_wisconsin_diagnostic.data.features \n",
    "y = breast_cancer_wisconsin_diagnostic.data.targets == \"M\"\n",
    "\n",
    "X.shape"
   ]
  },
  {
   "cell_type": "code",
   "execution_count": 20,
   "id": "1c3d321a",
   "metadata": {},
   "outputs": [
    {
     "name": "stderr",
     "output_type": "stream",
     "text": [
      "/Users/jean/Documents/Courses/venv/lib/python3.9/site-packages/sklearn/base.py:1474: DataConversionWarning: A column-vector y was passed when a 1d array was expected. Please change the shape of y to (n_samples,), for example using ravel().\n",
      "  return fit_method(estimator, *args, **kwargs)\n"
     ]
    },
    {
     "name": "stdout",
     "output_type": "stream",
     "text": [
      "sklearn 1.0\n",
      "(569, 100)\n",
      "sklearn 1.0\n"
     ]
    }
   ],
   "source": [
    "from sklearn.metrics import roc_auc_score\n",
    "\n",
    "rf = RandomForestClassifier()\n",
    "rf.fit(X,y)\n",
    "sklearn_pred = rf.predict(X)\n",
    "print(\"sklearn\", roc_auc_score(y, sklearn_pred))\n",
    "\n",
    "my_rf = fit(X,y, B=100)\n",
    "my_pred = predict(my_rf, X)\n",
    "print(\"sklearn\", roc_auc_score(y, my_pred))"
   ]
  },
  {
   "cell_type": "code",
   "execution_count": null,
   "id": "61684374",
   "metadata": {},
   "outputs": [],
   "source": []
  }
 ],
 "metadata": {
  "colab": {
   "provenance": []
  },
  "kernelspec": {
   "display_name": "venv",
   "language": "python",
   "name": "python3"
  },
  "language_info": {
   "codemirror_mode": {
    "name": "ipython",
    "version": 3
   },
   "file_extension": ".py",
   "mimetype": "text/x-python",
   "name": "python",
   "nbconvert_exporter": "python",
   "pygments_lexer": "ipython3",
   "version": "3.9.6"
  }
 },
 "nbformat": 4,
 "nbformat_minor": 5
}