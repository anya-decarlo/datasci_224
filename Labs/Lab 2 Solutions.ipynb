{
 "cells": [
  {
   "cell_type": "markdown",
   "id": "43e0c2ad-c4c1-42da-8181-6d76bec34e0e",
   "metadata": {
    "id": "43e0c2ad-c4c1-42da-8181-6d76bec34e0e"
   },
   "source": [
    "Welcome to Lab 2! The goal of this lab is to learn how to implement linear regression. (This will also be helpful for homework 1!)\n",
    "\n",
    "This class will simulate a coding interview, where you will be asked to code up solutions on the fly, often without the aid of a code compiler or an IDE.\n",
    "\n",
    "The class will be divided into 4 groups. Each group will present their solutions at the board. Within each group, assign one person to be \"coder,\" who will code up your solution after you present the solution and run it to see if it works. If the code does not work as expected, work together to debug the code."
   ]
  },
  {
   "cell_type": "markdown",
   "id": "738b5439",
   "metadata": {},
   "source": [
    "## Let's implement linear regression!"
   ]
  },
  {
   "cell_type": "markdown",
   "id": "264cfd00-ec55-45ce-b999-3c86a475d348",
   "metadata": {
    "id": "264cfd00-ec55-45ce-b999-3c86a475d348"
   },
   "source": [
    "To start, we'll need some data. So let's first think about how we would simulate some data."
   ]
  },
  {
   "cell_type": "markdown",
   "id": "78d4873d",
   "metadata": {},
   "source": [
    "Q1: We would like to simulate some data to fit a linear regression model. What's a common distributional assumption for $Y$ given $X$? Formally define your probability model and point out which values correspond to the parameters of the probability model."
   ]
  },
  {
   "cell_type": "markdown",
   "id": "0f1c58ca",
   "metadata": {},
   "source": [
    "A common assumption is $Y=X \\beta + \\beta_0 + \\epsilon$ where $\\epsilon$ is a mean-zero normally distributed RV with some unknown variance $\\sigma^2$. The parameters of the probability model are the intercept $\\beta_0$, coefficients $\\beta$, and the variance of the noise term $\\sigma^2$."
   ]
  },
  {
   "cell_type": "markdown",
   "id": "a7fb083d-5e51-44e7-8ce2-3ff1c9c0de20",
   "metadata": {
    "id": "a7fb083d-5e51-44e7-8ce2-3ff1c9c0de20"
   },
   "source": [
    "Q2: Let's simulate $n=100$ observations with $p=3$ variables. Let the coefficients of the linear model be $\\beta=(1,0.5,0)^\\top$ and let the intercept be zero. Simulate the data such that $Y = X \\beta + \\epsilon$ where $\\epsilon \\sim N(0, 0.1)$. Simulate $X_j \\sim N(0,4)$ for all $j=1,2,3$. Simulate data according to the settings defined above. (Code Required)"
   ]
  },
  {
   "cell_type": "code",
   "execution_count": 3,
   "id": "52038923",
   "metadata": {
    "executionInfo": {
     "elapsed": 508,
     "status": "ok",
     "timestamp": 1697241279744,
     "user": {
      "displayName": "Nidhi Gaonkar",
      "userId": "11008239071912295987"
     },
     "user_tz": 420
    },
    "id": "52038923"
   },
   "outputs": [],
   "source": [
    "import numpy as np\n",
    "import pandas as pd\n",
    "\n",
    "np.random.seed(10)\n",
    "beta = np.array((1,0.5,0)).T\n",
    "\n",
    "def simulate_data(n):\n",
    "    X = np.random.normal(loc=0, scale=2, size=(n, 3))\n",
    "    eps = np.random.normal(loc=0, scale=np.sqrt(0.1), size=n)\n",
    "    mu = X @ beta #alternatively you can use np.dot(X, beta). Same result\n",
    "    y = mu + eps\n",
    "    return X, y\n",
    "\n",
    "datX, datY = simulate_data(100)"
   ]
  },
  {
   "cell_type": "markdown",
   "id": "701b33e8",
   "metadata": {},
   "source": [
    "Q3: Read through the linear regression documentation on sklearn's website: https://scikit-learn.org/stable/modules/generated/sklearn.linear_model.LinearRegression.html. Explain what each of the arguments in the LinearRegression class are for. (Written response)"
   ]
  },
  {
   "cell_type": "markdown",
   "id": "d6f62835",
   "metadata": {},
   "source": [
    "Answers discussed in class."
   ]
  },
  {
   "cell_type": "markdown",
   "id": "be43c59d-68e2-430a-9e44-4f0eb6c753f6",
   "metadata": {
    "id": "be43c59d-68e2-430a-9e44-4f0eb6c753f6"
   },
   "source": [
    "Q4: Fit linear regression using sklearn on your simulated data. What values are you going to use for the LinearRegression parameters? How will you obtain the estimated coefficients and intercept? Map/draw out your plan, then write up the code. (Code Required)"
   ]
  },
  {
   "cell_type": "code",
   "execution_count": 8,
   "id": "f0332bce",
   "metadata": {
    "colab": {
     "base_uri": "https://localhost:8080/"
    },
    "executionInfo": {
     "elapsed": 142,
     "status": "ok",
     "timestamp": 1697244928722,
     "user": {
      "displayName": "Nidhi Gaonkar",
      "userId": "11008239071912295987"
     },
     "user_tz": 420
    },
    "id": "f0332bce",
    "outputId": "0320710e-2f2e-43ab-8269-f5fece7eb2c0"
   },
   "outputs": [
    {
     "name": "stdout",
     "output_type": "stream",
     "text": [
      "Intercept: 0.027279474080975058\n",
      "Coefficients: [ 0.99507555  0.49232657 -0.0131667 ]\n"
     ]
    }
   ],
   "source": [
    "import sklearn.linear_model\n",
    "\n",
    "\n",
    "reg = sklearn.linear_model.LinearRegression().fit(datX, datY)\n",
    "\n",
    "coefficients = reg.coef_\n",
    "intercept = reg.intercept_\n",
    "\n",
    "print(\"Intercept:\", intercept)\n",
    "print(\"Coefficients:\", coefficients)\n"
   ]
  },
  {
   "cell_type": "markdown",
   "id": "cfcb992a",
   "metadata": {},
   "source": [
    "Q5: Let's recall lecture. What optimization problem do we try to solve when fitting linear regression? (Written Response and Equation)"
   ]
  },
  {
   "cell_type": "markdown",
   "id": "619948e0",
   "metadata": {},
   "source": [
    "The optimization problem for linear regression is to find the line that best fits the data while minimizing error. \n",
    "\n",
    "Equation: $\\min_\\beta || Y -X\\beta ||^2$"
   ]
  },
  {
   "cell_type": "markdown",
   "id": "ba80df96",
   "metadata": {},
   "source": [
    "Q6: How do we derive the closed form solution to the optimization problem? Describe the procedure. Derive the closed form solution step by step. (Written Response and equations.)"
   ]
  },
  {
   "cell_type": "markdown",
   "id": "c455388a",
   "metadata": {},
   "source": [
    "To find the closed form solution to the optimization problem we have to:\n",
    "1. Take the gradient of the loss with respect to the model parameters. \n",
    "2. Set the gradient equal to zero. Find the value for the model parameter such that the gradient is equal to zero."
   ]
  },
  {
   "cell_type": "markdown",
   "id": "963caf0a",
   "metadata": {},
   "source": [
    "Q7: Implement the closed form solution. (Code Required)"
   ]
  },
  {
   "cell_type": "code",
   "execution_count": 12,
   "id": "e2c311d1",
   "metadata": {},
   "outputs": [
    {
     "name": "stdout",
     "output_type": "stream",
     "text": [
      "Closed-form solution intercept: 0.027279474080975114\n",
      "Closed-form solution coefficients: [ 0.99507555  0.49232657 -0.0131667 ]\n"
     ]
    }
   ],
   "source": [
    "import numpy as np\n",
    "\n",
    "# augment X matrix with a ones column\n",
    "tildeX = np.c_[np.ones((datX.shape[0], 1)), datX]  \n",
    "\n",
    "# Apply the closed form solution to estimate coefficients\n",
    "beta_closed_form = np.linalg.inv(tildeX.T @ tildeX) @ tildeX.T @ datY\n",
    "\n",
    "# Extract intercept and coefficients\n",
    "intercept_closed_form = beta_closed_form[0]\n",
    "coefficients_closed_form = beta_closed_form[1:]\n",
    "\n",
    "print(\"Closed-form solution intercept:\", intercept_closed_form)\n",
    "print(\"Closed-form solution coefficients:\", coefficients_closed_form)"
   ]
  },
  {
   "cell_type": "markdown",
   "id": "d73b7815",
   "metadata": {},
   "source": [
    "Q8: Run your code on the simulated dataset. Do you get the same answer as scikit-learn?"
   ]
  },
  {
   "cell_type": "markdown",
   "id": "397c070b",
   "metadata": {},
   "source": [
    "(Bonus) Q9: Alternatively, we can perform linear regression by running gradient descent to solve the optimization problem. Your task is to implement the gradient descent procedure and check your answers. (Code Required)"
   ]
  }
 ],
 "metadata": {
  "colab": {
   "provenance": []
  },
  "kernelspec": {
   "display_name": "venv",
   "language": "python",
   "name": "python3"
  },
  "language_info": {
   "codemirror_mode": {
    "name": "ipython",
    "version": 3
   },
   "file_extension": ".py",
   "mimetype": "text/x-python",
   "name": "python",
   "nbconvert_exporter": "python",
   "pygments_lexer": "ipython3",
   "version": "3.9.6"
  }
 },
 "nbformat": 4,
 "nbformat_minor": 5
}