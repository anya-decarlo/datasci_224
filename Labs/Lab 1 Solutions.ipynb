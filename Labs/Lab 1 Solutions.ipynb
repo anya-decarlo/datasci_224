{
  "cells": [
    {
      "cell_type": "markdown",
      "metadata": {
        "id": "43e0c2ad-c4c1-42da-8181-6d76bec34e0e"
      },
      "source": [
        "Welcome to Lab 1! We are going to get started right away and have you prove to yourself that you can learn a new ML algorithm on your own, using only the concepts you've learned in Lecture 1.\n",
        "\n",
        "**Naive Bayes**\n",
        "Naive Bayes (NB) is a simple, yet often effective, probabilistic classification technique. NB algorithms is primarily known for its ability to classify documents. Well-known examples include identifying spam emails and predicting categories and sentiment in tweets, web pages, etc.\n",
        "\n",
        "Helpful learning resources:\n",
        "* https://scikit-learn.org/stable/modules/naive_bayes.html\n",
        "* https://en.wikipedia.org/wiki/Naive_Bayes_classifier\n",
        "* https://www.cs.cmu.edu/~tom/mlbook/NBayesLogReg.pdf\n",
        "* Working with text data: https://scikit-learn.org/stable/tutorial/text_analytics/working_with_text_data.html\n",
        "* Let me know if you find anything else!\n",
        "\n",
        "Concepts you'll need from Lecture 1:\n",
        "* Probability distributions\n",
        "* Bayes' rule\n",
        "* Maximum likelihood estimation\n",
        "\n",
        "After learning the NB algorithm, we will use it to classify tweets about the COVID pandemic based on their sentiment (e.g. extremely positive, positive, negative, extremely negative). The dataset available for the lab was downloaded from https://www.kaggle.com/datasets/datatattle/covid-19-nlp-text-classification."
      ]
    },
    {
      "cell_type": "markdown",
      "metadata": {
        "id": "264cfd00-ec55-45ce-b999-3c86a475d348"
      },
      "source": [
        "**How does the Naive Bayes algorithm work?**"
      ]
    },
    {
      "cell_type": "markdown",
      "metadata": {
        "id": "a7fb083d-5e51-44e7-8ce2-3ff1c9c0de20"
      },
      "source": [
        "We'll split the class in half. Half of you will read 1.9-1.9.2 in https://scikit-learn.org/stable/modules/naive_bayes.html. Half of you will read the following sections in the wikipedia entry https://en.wikipedia.org/wiki/Naive_Bayes_classifier: \"Probabilistic model\" and \"Multinomial naive Bayes\". Within each group, try to use the materials given to you to answer the following questions. The materials differ in the information they provide, so the exact answer may not be available in the given material. If so, do your best to figure out the answer.\n",
        "\n",
        "Each group will be asked to send a different representative for each question to the whiteboard to present the group's answer and explain the group's reasoning. \n",
        "\n",
        "For simplicity, it can be helpful to start with thinking about the simplest data setting: we want to classify data into two classes where we have access to $p$ features. That is, let $X = (X_1,\\cdots, X_p)$ be the features and $Y$ be the outcome.  $Y$ can only take on values of 0 or 1."
      ]
    },
    {
      "cell_type": "markdown",
      "metadata": {
        "id": "be43c59d-68e2-430a-9e44-4f0eb6c753f6"
      },
      "source": [
        "Q1: What is the main assumption made by the NB algorithm and what is the probability model? Why does it make this assumption? Do you think it is reasonable? In addition to answering the question in words, show the exact equations."
      ]
    },
    {
      "cell_type": "markdown",
      "metadata": {
        "id": "VSXCdKpzosmI"
      },
      "source": [
        "Predictors are conditionally independent given the class and all features contribute equally to the outcome, i.e. $X_1 \\perp X_2 \\perp \\cdots \\perp X_p |Y$\n",
        "\n",
        "Consequently, NB supposes the joint distribution $P(X_1, \\cdots, X_p | Y)$ factorizes into $\\prod_{i=1}^p \\Pr(X_i |Y)$.\n",
        "\n",
        "*Why NB makes this assumption?* \n",
        "* By assuming conditional independece, the model becomes simpler and easier to implement, since we only need to estimate individual probabilities of each word for each class.\n",
        "* When one has only limited data, NB might actually do quite well."
      ]
    },
    {
      "cell_type": "markdown",
      "metadata": {
        "id": "1af14e2d-1f3f-4d6d-be0a-473c7e580de2"
      },
      "source": [
        "Q2: How does the NB algorithm calculate the probability that $Y=1$ for a given observation $X$? In addition to answering the question in words, show the exact equations."
      ]
    },
    {
      "cell_type": "markdown",
      "metadata": {
        "id": "WbgE6GmHo2QG"
      },
      "source": [
        "NB estimates $p(X_i|Y)$ for each word $X_i$ in the data. Then using Bayes' Theorem, it computes the probability that $Y=1$ given $X$. That is, $p(Y = 1|X) = \\frac{p(X|Y=1) p(Y=1)}{p(X)}$."
      ]
    },
    {
      "cell_type": "markdown",
      "metadata": {
        "id": "62de0f61-2ee8-4a76-b8e8-8f8708a1e47f"
      },
      "source": [
        "Q3: Explain what the Multinomial NB algorithm does and what types of data/problem settings it is suitable for. In addition to answering the question in words, show the exact equations."
      ]
    },
    {
      "cell_type": "markdown",
      "metadata": {
        "id": "zm3t33fZ5dc9"
      },
      "source": [
        "Multinomial NB are good for modeling histograms (e.g. prevalence of different words in a document) That is, we are modeling the occurence of a particular event in each class. The likelihood of observing a histogram $X$ is given by\n",
        "$p(X|Y) \\propto \\prod_{i=1}^d p(X = i | Y)^{n_i}$ where there are $d$ events ($i=1$ to $d$),  $n_i$ is the number of times event $i$ is observed, and $p(X = i | Y)$ is the probability that event $i$ occurs for class $Y$."
      ]
    },
    {
      "cell_type": "markdown",
      "metadata": {
        "id": "2c8e4cb6-fe14-421c-811c-3857defabdf4"
      },
      "source": [
        "Q4: We are planning to classify tweets using NB. To do this, how would you translate a tweet into a feature vector $X$? Skimming the rest of the variants of the NB algorithm for the website references given, which of these options would you try to use? Draw out the steps of how you plan to process the data and train a NB model. (Written response, include equations when helpful)"
      ]
    },
    {
      "cell_type": "markdown",
      "metadata": {
        "id": "Lgkla4Qe7qC7"
      },
      "source": [
        "Perform a Bag of Words representation, where $X$ could be the number of times each word in a set vocabulary appears or $X$ is simply whether or not each word appears."
      ]
    },
    {
      "cell_type": "markdown",
      "metadata": {
        "id": "592b44df-1f09-4a10-84b6-31c4f405e0e8"
      },
      "source": [
        "**Applying Naive Bayes to classify COVID-related tweets**\n",
        "\n",
        "Now let's apply this procedure to our dataset. The basic steps are to load the data, preprocess it, fit the model, and then evaluate it. You get to fill in the details."
      ]
    },
    {
      "cell_type": "markdown",
      "metadata": {
        "id": "b64b03dd-4fd1-4791-bb95-054c278c5962"
      },
      "source": [
        "Q1: Load the data (Code Required)"
      ]
    },
    {
      "cell_type": "code",
      "execution_count": null,
      "metadata": {},
      "outputs": [],
      "source": [
        "#import libraries\n",
        "import numpy as np\n",
        "import re\n",
        "import pandas as pd\n",
        "from sklearn.feature_extraction.text import CountVectorizer\n",
        "from sklearn.naive_bayes import MultinomialNB\n",
        "\n",
        "from sklearn.metrics import accuracy_score"
      ]
    },
    {
      "cell_type": "code",
      "execution_count": 3,
      "metadata": {},
      "outputs": [],
      "source": [
        "#load data\n",
        "\n",
        "train = pd.read_csv(\"Corona_NLP_train.csv\",encoding=\"latin-1\", index_col=None)\n",
        "test = pd.read_csv(\"Corona_NLP_test.csv\",encoding=\"latin-1\", index_col=None)"
      ]
    },
    {
      "cell_type": "code",
      "execution_count": 4,
      "metadata": {},
      "outputs": [
        {
          "data": {
            "text/html": [
              "<div>\n",
              "<style scoped>\n",
              "    .dataframe tbody tr th:only-of-type {\n",
              "        vertical-align: middle;\n",
              "    }\n",
              "\n",
              "    .dataframe tbody tr th {\n",
              "        vertical-align: top;\n",
              "    }\n",
              "\n",
              "    .dataframe thead th {\n",
              "        text-align: right;\n",
              "    }\n",
              "</style>\n",
              "<table border=\"1\" class=\"dataframe\">\n",
              "  <thead>\n",
              "    <tr style=\"text-align: right;\">\n",
              "      <th></th>\n",
              "      <th>UserName</th>\n",
              "      <th>ScreenName</th>\n",
              "      <th>Location</th>\n",
              "      <th>TweetAt</th>\n",
              "      <th>OriginalTweet</th>\n",
              "      <th>Sentiment</th>\n",
              "    </tr>\n",
              "  </thead>\n",
              "  <tbody>\n",
              "    <tr>\n",
              "      <th>0</th>\n",
              "      <td>3799</td>\n",
              "      <td>48751</td>\n",
              "      <td>London</td>\n",
              "      <td>16-03-2020</td>\n",
              "      <td>@MeNyrbie @Phil_Gahan @Chrisitv https://t.co/i...</td>\n",
              "      <td>Neutral</td>\n",
              "    </tr>\n",
              "    <tr>\n",
              "      <th>1</th>\n",
              "      <td>3800</td>\n",
              "      <td>48752</td>\n",
              "      <td>UK</td>\n",
              "      <td>16-03-2020</td>\n",
              "      <td>advice Talk to your neighbours family to excha...</td>\n",
              "      <td>Positive</td>\n",
              "    </tr>\n",
              "    <tr>\n",
              "      <th>2</th>\n",
              "      <td>3801</td>\n",
              "      <td>48753</td>\n",
              "      <td>Vagabonds</td>\n",
              "      <td>16-03-2020</td>\n",
              "      <td>Coronavirus Australia: Woolworths to give elde...</td>\n",
              "      <td>Positive</td>\n",
              "    </tr>\n",
              "    <tr>\n",
              "      <th>3</th>\n",
              "      <td>3802</td>\n",
              "      <td>48754</td>\n",
              "      <td>NaN</td>\n",
              "      <td>16-03-2020</td>\n",
              "      <td>My food stock is not the only one which is emp...</td>\n",
              "      <td>Positive</td>\n",
              "    </tr>\n",
              "    <tr>\n",
              "      <th>4</th>\n",
              "      <td>3803</td>\n",
              "      <td>48755</td>\n",
              "      <td>NaN</td>\n",
              "      <td>16-03-2020</td>\n",
              "      <td>Me, ready to go at supermarket during the #COV...</td>\n",
              "      <td>Extremely Negative</td>\n",
              "    </tr>\n",
              "    <tr>\n",
              "      <th>...</th>\n",
              "      <td>...</td>\n",
              "      <td>...</td>\n",
              "      <td>...</td>\n",
              "      <td>...</td>\n",
              "      <td>...</td>\n",
              "      <td>...</td>\n",
              "    </tr>\n",
              "    <tr>\n",
              "      <th>41152</th>\n",
              "      <td>44951</td>\n",
              "      <td>89903</td>\n",
              "      <td>Wellington City, New Zealand</td>\n",
              "      <td>14-04-2020</td>\n",
              "      <td>Airline pilots offering to stock supermarket s...</td>\n",
              "      <td>Neutral</td>\n",
              "    </tr>\n",
              "    <tr>\n",
              "      <th>41153</th>\n",
              "      <td>44952</td>\n",
              "      <td>89904</td>\n",
              "      <td>NaN</td>\n",
              "      <td>14-04-2020</td>\n",
              "      <td>Response to complaint not provided citing COVI...</td>\n",
              "      <td>Extremely Negative</td>\n",
              "    </tr>\n",
              "    <tr>\n",
              "      <th>41154</th>\n",
              "      <td>44953</td>\n",
              "      <td>89905</td>\n",
              "      <td>NaN</td>\n",
              "      <td>14-04-2020</td>\n",
              "      <td>You know itÃ‚Â’s getting tough when @KameronWild...</td>\n",
              "      <td>Positive</td>\n",
              "    </tr>\n",
              "    <tr>\n",
              "      <th>41155</th>\n",
              "      <td>44954</td>\n",
              "      <td>89906</td>\n",
              "      <td>NaN</td>\n",
              "      <td>14-04-2020</td>\n",
              "      <td>Is it wrong that the smell of hand sanitizer i...</td>\n",
              "      <td>Neutral</td>\n",
              "    </tr>\n",
              "    <tr>\n",
              "      <th>41156</th>\n",
              "      <td>44955</td>\n",
              "      <td>89907</td>\n",
              "      <td>i love you so much || he/him</td>\n",
              "      <td>14-04-2020</td>\n",
              "      <td>@TartiiCat Well new/used Rift S are going for ...</td>\n",
              "      <td>Negative</td>\n",
              "    </tr>\n",
              "  </tbody>\n",
              "</table>\n",
              "<p>41157 rows Ã— 6 columns</p>\n",
              "</div>"
            ],
            "text/plain": [
              "       UserName  ScreenName                      Location     TweetAt  \\\n",
              "0          3799       48751                        London  16-03-2020   \n",
              "1          3800       48752                            UK  16-03-2020   \n",
              "2          3801       48753                     Vagabonds  16-03-2020   \n",
              "3          3802       48754                           NaN  16-03-2020   \n",
              "4          3803       48755                           NaN  16-03-2020   \n",
              "...         ...         ...                           ...         ...   \n",
              "41152     44951       89903  Wellington City, New Zealand  14-04-2020   \n",
              "41153     44952       89904                           NaN  14-04-2020   \n",
              "41154     44953       89905                           NaN  14-04-2020   \n",
              "41155     44954       89906                           NaN  14-04-2020   \n",
              "41156     44955       89907  i love you so much || he/him  14-04-2020   \n",
              "\n",
              "                                           OriginalTweet           Sentiment  \n",
              "0      @MeNyrbie @Phil_Gahan @Chrisitv https://t.co/i...             Neutral  \n",
              "1      advice Talk to your neighbours family to excha...            Positive  \n",
              "2      Coronavirus Australia: Woolworths to give elde...            Positive  \n",
              "3      My food stock is not the only one which is emp...            Positive  \n",
              "4      Me, ready to go at supermarket during the #COV...  Extremely Negative  \n",
              "...                                                  ...                 ...  \n",
              "41152  Airline pilots offering to stock supermarket s...             Neutral  \n",
              "41153  Response to complaint not provided citing COVI...  Extremely Negative  \n",
              "41154  You know itÃ‚Â’s getting tough when @KameronWild...            Positive  \n",
              "41155  Is it wrong that the smell of hand sanitizer i...             Neutral  \n",
              "41156  @TartiiCat Well new/used Rift S are going for ...            Negative  \n",
              "\n",
              "[41157 rows x 6 columns]"
            ]
          },
          "execution_count": 4,
          "metadata": {},
          "output_type": "execute_result"
        }
      ],
      "source": [
        "train"
      ]
    },
    {
      "cell_type": "markdown",
      "metadata": {},
      "source": [
        "Q2: What is the prevalence of each sentiment label? Group together the labels so there are three classes (Positive, Neutral, Negative) rather than five. (Code Required)"
      ]
    },
    {
      "cell_type": "code",
      "execution_count": 5,
      "metadata": {},
      "outputs": [
        {
          "name": "stdout",
          "output_type": "stream",
          "text": [
            "test labels Sentiment\n",
            "Negative              1041\n",
            "Positive               947\n",
            "Neutral                619\n",
            "Extremely Positive     599\n",
            "Extremely Negative     592\n",
            "Name: count, dtype: int64\n",
            "train labels Sentiment\n",
            "Positive              11422\n",
            "Negative               9917\n",
            "Neutral                7713\n",
            "Extremely Positive     6624\n",
            "Extremely Negative     5481\n",
            "Name: count, dtype: int64\n"
          ]
        }
      ],
      "source": [
        "print(\"test labels\", test.Sentiment.value_counts())\n",
        "print(\"train labels\", train.Sentiment.value_counts())"
      ]
    },
    {
      "cell_type": "code",
      "execution_count": 6,
      "metadata": {},
      "outputs": [],
      "source": [
        "train['Sentiment'] = train['Sentiment'].str.replace('Extremely Positive', 'Positive')\n",
        "train['Sentiment'] = train['Sentiment'].str.replace('Extremely Negative', 'Negative')\n",
        "\n",
        "test['Sentiment'] = test['Sentiment'].str.replace('Extremely Positive', 'Positive')\n",
        "test['Sentiment'] = test['Sentiment'].str.replace('Extremely Negative', 'Negative')"
      ]
    },
    {
      "cell_type": "code",
      "execution_count": 7,
      "metadata": {},
      "outputs": [
        {
          "name": "stdout",
          "output_type": "stream",
          "text": [
            "test labels Sentiment\n",
            "Negative    1633\n",
            "Positive    1546\n",
            "Neutral      619\n",
            "Name: count, dtype: int64\n",
            "train labels Sentiment\n",
            "Positive    18046\n",
            "Negative    15398\n",
            "Neutral      7713\n",
            "Name: count, dtype: int64\n"
          ]
        }
      ],
      "source": [
        "print(\"test labels\", test.Sentiment.value_counts())\n",
        "print(\"train labels\", train.Sentiment.value_counts())"
      ]
    },
    {
      "cell_type": "markdown",
      "metadata": {
        "id": "1b73f0b7-6eb4-4f43-8211-54cf0e936362"
      },
      "source": [
        "Q3: Preprocess the training and test data and create feature vectors. You are provided the following function to clean tweets, which removes special characters and tags. (Code required)\n",
        "```\n",
        "def cleaning(df):\n",
        "    def remove_web_urls(text): return re.sub(r'https?://\\S+', ' ', text)\n",
        "    df['OriginalTweet'] = df['OriginalTweet'].apply(remove_web_urls)\n",
        "\n",
        "    def remove_tags(text): return re.sub(r'@\\w*', ' ' , text)\n",
        "    df['OriginalTweet'] = df['OriginalTweet'].apply(remove_tags)\n",
        "\n",
        "    def remove_hashtags(text): return re.sub(r'#\\w*', ' ' , text)\n",
        "    df['OriginalTweet'] = df['OriginalTweet'].apply(remove_hashtags)\n",
        "\n",
        "    def remove_apostrophe(text): return re.sub(r\"'s\\b\", \"\", text)\n",
        "    df['OriginalTweet'] = df['OriginalTweet'].apply(remove_apostrophe)\n",
        "\n",
        "    def remove_special_chars(text): return re.sub(r\"[^a-zA-Z0-9\\s]\", ' ', text)\n",
        "    df['OriginalTweet'] = df['OriginalTweet'].apply(remove_special_chars)\n",
        "\n",
        "    def remove_number(text): return re.sub(r'[\\d]', ' ', text)\n",
        "    df['OriginalTweet'] = df['OriginalTweet'].apply(remove_number)\n",
        "\n",
        "    df['OriginalTweet'] = df['OriginalTweet'].str.lower()\n",
        "    return df\n",
        "\n",
        "```\n"
      ]
    },
    {
      "cell_type": "code",
      "execution_count": 10,
      "metadata": {},
      "outputs": [],
      "source": [
        "def cleaning(df):\n",
        "    def remove_web_urls(text): return re.sub(r'https?://\\S+', ' ', text)\n",
        "    df['OriginalTweet'] = df['OriginalTweet'].apply(remove_web_urls)\n",
        "\n",
        "    def remove_tags(text): return re.sub(r'@\\w*', ' ' , text)\n",
        "    df['OriginalTweet'] = df['OriginalTweet'].apply(remove_tags)\n",
        "\n",
        "    def remove_hashtags(text): return re.sub(r'#\\w*', ' ' , text)\n",
        "    df['OriginalTweet'] = df['OriginalTweet'].apply(remove_hashtags)\n",
        "\n",
        "    def remove_apostrophe(text): return re.sub(r\"'s\\b\", \"\", text)\n",
        "    df['OriginalTweet'] = df['OriginalTweet'].apply(remove_apostrophe)\n",
        "\n",
        "    def remove_special_chars(text): return re.sub(r\"[^a-zA-Z0-9\\s]\", ' ', text)\n",
        "    df['OriginalTweet'] = df['OriginalTweet'].apply(remove_special_chars)\n",
        "\n",
        "    def remove_number(text): return re.sub(r'[\\d]', ' ', text)\n",
        "    df['OriginalTweet'] = df['OriginalTweet'].apply(remove_number)\n",
        "\n",
        "    df['OriginalTweet'] = df['OriginalTweet'].str.lower()\n",
        "    return df\n",
        "\n",
        "train = train[['OriginalTweet', 'Sentiment']]\n",
        "test = test[['OriginalTweet', 'Sentiment']]\n",
        "\n",
        "cleaned_train = cleaning(train)\n",
        "cleaned_test = cleaning(test)"
      ]
    },
    {
      "cell_type": "markdown",
      "metadata": {
        "id": "d5128d70-8b5a-4815-828b-1b779432c73d"
      },
      "source": [
        "Q4: Fit the Multinomial Naive Bayes algorithm (Code required)"
      ]
    },
    {
      "cell_type": "code",
      "execution_count": 11,
      "metadata": {
        "id": "L6NIjIAoFVKE"
      },
      "outputs": [],
      "source": [
        "#make training and test sets\n",
        "X_train = cleaned_train['OriginalTweet']\n",
        "y_train = cleaned_train['Sentiment']"
      ]
    },
    {
      "cell_type": "code",
      "execution_count": 12,
      "metadata": {
        "id": "JwEJhpqnFyFl"
      },
      "outputs": [],
      "source": [
        "#transform text into vectors\n",
        "vectorizer = CountVectorizer()\n",
        "X_train_vectorized = vectorizer.fit_transform(X_train)"
      ]
    },
    {
      "cell_type": "code",
      "execution_count": 13,
      "metadata": {
        "colab": {
          "base_uri": "https://localhost:8080/"
        },
        "id": "QG3u4KjSFyK4",
        "outputId": "50e59cdc-bc9c-41ea-a4d6-87bdb4701737"
      },
      "outputs": [
        {
          "data": {
            "text/html": [
              "<style>#sk-container-id-1 {\n",
              "  /* Definition of color scheme common for light and dark mode */\n",
              "  --sklearn-color-text: black;\n",
              "  --sklearn-color-line: gray;\n",
              "  /* Definition of color scheme for unfitted estimators */\n",
              "  --sklearn-color-unfitted-level-0: #fff5e6;\n",
              "  --sklearn-color-unfitted-level-1: #f6e4d2;\n",
              "  --sklearn-color-unfitted-level-2: #ffe0b3;\n",
              "  --sklearn-color-unfitted-level-3: chocolate;\n",
              "  /* Definition of color scheme for fitted estimators */\n",
              "  --sklearn-color-fitted-level-0: #f0f8ff;\n",
              "  --sklearn-color-fitted-level-1: #d4ebff;\n",
              "  --sklearn-color-fitted-level-2: #b3dbfd;\n",
              "  --sklearn-color-fitted-level-3: cornflowerblue;\n",
              "\n",
              "  /* Specific color for light theme */\n",
              "  --sklearn-color-text-on-default-background: var(--sg-text-color, var(--theme-code-foreground, var(--jp-content-font-color1, black)));\n",
              "  --sklearn-color-background: var(--sg-background-color, var(--theme-background, var(--jp-layout-color0, white)));\n",
              "  --sklearn-color-border-box: var(--sg-text-color, var(--theme-code-foreground, var(--jp-content-font-color1, black)));\n",
              "  --sklearn-color-icon: #696969;\n",
              "\n",
              "  @media (prefers-color-scheme: dark) {\n",
              "    /* Redefinition of color scheme for dark theme */\n",
              "    --sklearn-color-text-on-default-background: var(--sg-text-color, var(--theme-code-foreground, var(--jp-content-font-color1, white)));\n",
              "    --sklearn-color-background: var(--sg-background-color, var(--theme-background, var(--jp-layout-color0, #111)));\n",
              "    --sklearn-color-border-box: var(--sg-text-color, var(--theme-code-foreground, var(--jp-content-font-color1, white)));\n",
              "    --sklearn-color-icon: #878787;\n",
              "  }\n",
              "}\n",
              "\n",
              "#sk-container-id-1 {\n",
              "  color: var(--sklearn-color-text);\n",
              "}\n",
              "\n",
              "#sk-container-id-1 pre {\n",
              "  padding: 0;\n",
              "}\n",
              "\n",
              "#sk-container-id-1 input.sk-hidden--visually {\n",
              "  border: 0;\n",
              "  clip: rect(1px 1px 1px 1px);\n",
              "  clip: rect(1px, 1px, 1px, 1px);\n",
              "  height: 1px;\n",
              "  margin: -1px;\n",
              "  overflow: hidden;\n",
              "  padding: 0;\n",
              "  position: absolute;\n",
              "  width: 1px;\n",
              "}\n",
              "\n",
              "#sk-container-id-1 div.sk-dashed-wrapped {\n",
              "  border: 1px dashed var(--sklearn-color-line);\n",
              "  margin: 0 0.4em 0.5em 0.4em;\n",
              "  box-sizing: border-box;\n",
              "  padding-bottom: 0.4em;\n",
              "  background-color: var(--sklearn-color-background);\n",
              "}\n",
              "\n",
              "#sk-container-id-1 div.sk-container {\n",
              "  /* jupyter's `normalize.less` sets `[hidden] { display: none; }`\n",
              "     but bootstrap.min.css set `[hidden] { display: none !important; }`\n",
              "     so we also need the `!important` here to be able to override the\n",
              "     default hidden behavior on the sphinx rendered scikit-learn.org.\n",
              "     See: https://github.com/scikit-learn/scikit-learn/issues/21755 */\n",
              "  display: inline-block !important;\n",
              "  position: relative;\n",
              "}\n",
              "\n",
              "#sk-container-id-1 div.sk-text-repr-fallback {\n",
              "  display: none;\n",
              "}\n",
              "\n",
              "div.sk-parallel-item,\n",
              "div.sk-serial,\n",
              "div.sk-item {\n",
              "  /* draw centered vertical line to link estimators */\n",
              "  background-image: linear-gradient(var(--sklearn-color-text-on-default-background), var(--sklearn-color-text-on-default-background));\n",
              "  background-size: 2px 100%;\n",
              "  background-repeat: no-repeat;\n",
              "  background-position: center center;\n",
              "}\n",
              "\n",
              "/* Parallel-specific style estimator block */\n",
              "\n",
              "#sk-container-id-1 div.sk-parallel-item::after {\n",
              "  content: \"\";\n",
              "  width: 100%;\n",
              "  border-bottom: 2px solid var(--sklearn-color-text-on-default-background);\n",
              "  flex-grow: 1;\n",
              "}\n",
              "\n",
              "#sk-container-id-1 div.sk-parallel {\n",
              "  display: flex;\n",
              "  align-items: stretch;\n",
              "  justify-content: center;\n",
              "  background-color: var(--sklearn-color-background);\n",
              "  position: relative;\n",
              "}\n",
              "\n",
              "#sk-container-id-1 div.sk-parallel-item {\n",
              "  display: flex;\n",
              "  flex-direction: column;\n",
              "}\n",
              "\n",
              "#sk-container-id-1 div.sk-parallel-item:first-child::after {\n",
              "  align-self: flex-end;\n",
              "  width: 50%;\n",
              "}\n",
              "\n",
              "#sk-container-id-1 div.sk-parallel-item:last-child::after {\n",
              "  align-self: flex-start;\n",
              "  width: 50%;\n",
              "}\n",
              "\n",
              "#sk-container-id-1 div.sk-parallel-item:only-child::after {\n",
              "  width: 0;\n",
              "}\n",
              "\n",
              "/* Serial-specific style estimator block */\n",
              "\n",
              "#sk-container-id-1 div.sk-serial {\n",
              "  display: flex;\n",
              "  flex-direction: column;\n",
              "  align-items: center;\n",
              "  background-color: var(--sklearn-color-background);\n",
              "  padding-right: 1em;\n",
              "  padding-left: 1em;\n",
              "}\n",
              "\n",
              "\n",
              "/* Toggleable style: style used for estimator/Pipeline/ColumnTransformer box that is\n",
              "clickable and can be expanded/collapsed.\n",
              "- Pipeline and ColumnTransformer use this feature and define the default style\n",
              "- Estimators will overwrite some part of the style using the `sk-estimator` class\n",
              "*/\n",
              "\n",
              "/* Pipeline and ColumnTransformer style (default) */\n",
              "\n",
              "#sk-container-id-1 div.sk-toggleable {\n",
              "  /* Default theme specific background. It is overwritten whether we have a\n",
              "  specific estimator or a Pipeline/ColumnTransformer */\n",
              "  background-color: var(--sklearn-color-background);\n",
              "}\n",
              "\n",
              "/* Toggleable label */\n",
              "#sk-container-id-1 label.sk-toggleable__label {\n",
              "  cursor: pointer;\n",
              "  display: block;\n",
              "  width: 100%;\n",
              "  margin-bottom: 0;\n",
              "  padding: 0.5em;\n",
              "  box-sizing: border-box;\n",
              "  text-align: center;\n",
              "}\n",
              "\n",
              "#sk-container-id-1 label.sk-toggleable__label-arrow:before {\n",
              "  /* Arrow on the left of the label */\n",
              "  content: \"â–¸\";\n",
              "  float: left;\n",
              "  margin-right: 0.25em;\n",
              "  color: var(--sklearn-color-icon);\n",
              "}\n",
              "\n",
              "#sk-container-id-1 label.sk-toggleable__label-arrow:hover:before {\n",
              "  color: var(--sklearn-color-text);\n",
              "}\n",
              "\n",
              "/* Toggleable content - dropdown */\n",
              "\n",
              "#sk-container-id-1 div.sk-toggleable__content {\n",
              "  max-height: 0;\n",
              "  max-width: 0;\n",
              "  overflow: hidden;\n",
              "  text-align: left;\n",
              "  /* unfitted */\n",
              "  background-color: var(--sklearn-color-unfitted-level-0);\n",
              "}\n",
              "\n",
              "#sk-container-id-1 div.sk-toggleable__content.fitted {\n",
              "  /* fitted */\n",
              "  background-color: var(--sklearn-color-fitted-level-0);\n",
              "}\n",
              "\n",
              "#sk-container-id-1 div.sk-toggleable__content pre {\n",
              "  margin: 0.2em;\n",
              "  border-radius: 0.25em;\n",
              "  color: var(--sklearn-color-text);\n",
              "  /* unfitted */\n",
              "  background-color: var(--sklearn-color-unfitted-level-0);\n",
              "}\n",
              "\n",
              "#sk-container-id-1 div.sk-toggleable__content.fitted pre {\n",
              "  /* unfitted */\n",
              "  background-color: var(--sklearn-color-fitted-level-0);\n",
              "}\n",
              "\n",
              "#sk-container-id-1 input.sk-toggleable__control:checked~div.sk-toggleable__content {\n",
              "  /* Expand drop-down */\n",
              "  max-height: 200px;\n",
              "  max-width: 100%;\n",
              "  overflow: auto;\n",
              "}\n",
              "\n",
              "#sk-container-id-1 input.sk-toggleable__control:checked~label.sk-toggleable__label-arrow:before {\n",
              "  content: \"â–¾\";\n",
              "}\n",
              "\n",
              "/* Pipeline/ColumnTransformer-specific style */\n",
              "\n",
              "#sk-container-id-1 div.sk-label input.sk-toggleable__control:checked~label.sk-toggleable__label {\n",
              "  color: var(--sklearn-color-text);\n",
              "  background-color: var(--sklearn-color-unfitted-level-2);\n",
              "}\n",
              "\n",
              "#sk-container-id-1 div.sk-label.fitted input.sk-toggleable__control:checked~label.sk-toggleable__label {\n",
              "  background-color: var(--sklearn-color-fitted-level-2);\n",
              "}\n",
              "\n",
              "/* Estimator-specific style */\n",
              "\n",
              "/* Colorize estimator box */\n",
              "#sk-container-id-1 div.sk-estimator input.sk-toggleable__control:checked~label.sk-toggleable__label {\n",
              "  /* unfitted */\n",
              "  background-color: var(--sklearn-color-unfitted-level-2);\n",
              "}\n",
              "\n",
              "#sk-container-id-1 div.sk-estimator.fitted input.sk-toggleable__control:checked~label.sk-toggleable__label {\n",
              "  /* fitted */\n",
              "  background-color: var(--sklearn-color-fitted-level-2);\n",
              "}\n",
              "\n",
              "#sk-container-id-1 div.sk-label label.sk-toggleable__label,\n",
              "#sk-container-id-1 div.sk-label label {\n",
              "  /* The background is the default theme color */\n",
              "  color: var(--sklearn-color-text-on-default-background);\n",
              "}\n",
              "\n",
              "/* On hover, darken the color of the background */\n",
              "#sk-container-id-1 div.sk-label:hover label.sk-toggleable__label {\n",
              "  color: var(--sklearn-color-text);\n",
              "  background-color: var(--sklearn-color-unfitted-level-2);\n",
              "}\n",
              "\n",
              "/* Label box, darken color on hover, fitted */\n",
              "#sk-container-id-1 div.sk-label.fitted:hover label.sk-toggleable__label.fitted {\n",
              "  color: var(--sklearn-color-text);\n",
              "  background-color: var(--sklearn-color-fitted-level-2);\n",
              "}\n",
              "\n",
              "/* Estimator label */\n",
              "\n",
              "#sk-container-id-1 div.sk-label label {\n",
              "  font-family: monospace;\n",
              "  font-weight: bold;\n",
              "  display: inline-block;\n",
              "  line-height: 1.2em;\n",
              "}\n",
              "\n",
              "#sk-container-id-1 div.sk-label-container {\n",
              "  text-align: center;\n",
              "}\n",
              "\n",
              "/* Estimator-specific */\n",
              "#sk-container-id-1 div.sk-estimator {\n",
              "  font-family: monospace;\n",
              "  border: 1px dotted var(--sklearn-color-border-box);\n",
              "  border-radius: 0.25em;\n",
              "  box-sizing: border-box;\n",
              "  margin-bottom: 0.5em;\n",
              "  /* unfitted */\n",
              "  background-color: var(--sklearn-color-unfitted-level-0);\n",
              "}\n",
              "\n",
              "#sk-container-id-1 div.sk-estimator.fitted {\n",
              "  /* fitted */\n",
              "  background-color: var(--sklearn-color-fitted-level-0);\n",
              "}\n",
              "\n",
              "/* on hover */\n",
              "#sk-container-id-1 div.sk-estimator:hover {\n",
              "  /* unfitted */\n",
              "  background-color: var(--sklearn-color-unfitted-level-2);\n",
              "}\n",
              "\n",
              "#sk-container-id-1 div.sk-estimator.fitted:hover {\n",
              "  /* fitted */\n",
              "  background-color: var(--sklearn-color-fitted-level-2);\n",
              "}\n",
              "\n",
              "/* Specification for estimator info (e.g. \"i\" and \"?\") */\n",
              "\n",
              "/* Common style for \"i\" and \"?\" */\n",
              "\n",
              ".sk-estimator-doc-link,\n",
              "a:link.sk-estimator-doc-link,\n",
              "a:visited.sk-estimator-doc-link {\n",
              "  float: right;\n",
              "  font-size: smaller;\n",
              "  line-height: 1em;\n",
              "  font-family: monospace;\n",
              "  background-color: var(--sklearn-color-background);\n",
              "  border-radius: 1em;\n",
              "  height: 1em;\n",
              "  width: 1em;\n",
              "  text-decoration: none !important;\n",
              "  margin-left: 1ex;\n",
              "  /* unfitted */\n",
              "  border: var(--sklearn-color-unfitted-level-1) 1pt solid;\n",
              "  color: var(--sklearn-color-unfitted-level-1);\n",
              "}\n",
              "\n",
              ".sk-estimator-doc-link.fitted,\n",
              "a:link.sk-estimator-doc-link.fitted,\n",
              "a:visited.sk-estimator-doc-link.fitted {\n",
              "  /* fitted */\n",
              "  border: var(--sklearn-color-fitted-level-1) 1pt solid;\n",
              "  color: var(--sklearn-color-fitted-level-1);\n",
              "}\n",
              "\n",
              "/* On hover */\n",
              "div.sk-estimator:hover .sk-estimator-doc-link:hover,\n",
              ".sk-estimator-doc-link:hover,\n",
              "div.sk-label-container:hover .sk-estimator-doc-link:hover,\n",
              ".sk-estimator-doc-link:hover {\n",
              "  /* unfitted */\n",
              "  background-color: var(--sklearn-color-unfitted-level-3);\n",
              "  color: var(--sklearn-color-background);\n",
              "  text-decoration: none;\n",
              "}\n",
              "\n",
              "div.sk-estimator.fitted:hover .sk-estimator-doc-link.fitted:hover,\n",
              ".sk-estimator-doc-link.fitted:hover,\n",
              "div.sk-label-container:hover .sk-estimator-doc-link.fitted:hover,\n",
              ".sk-estimator-doc-link.fitted:hover {\n",
              "  /* fitted */\n",
              "  background-color: var(--sklearn-color-fitted-level-3);\n",
              "  color: var(--sklearn-color-background);\n",
              "  text-decoration: none;\n",
              "}\n",
              "\n",
              "/* Span, style for the box shown on hovering the info icon */\n",
              ".sk-estimator-doc-link span {\n",
              "  display: none;\n",
              "  z-index: 9999;\n",
              "  position: relative;\n",
              "  font-weight: normal;\n",
              "  right: .2ex;\n",
              "  padding: .5ex;\n",
              "  margin: .5ex;\n",
              "  width: min-content;\n",
              "  min-width: 20ex;\n",
              "  max-width: 50ex;\n",
              "  color: var(--sklearn-color-text);\n",
              "  box-shadow: 2pt 2pt 4pt #999;\n",
              "  /* unfitted */\n",
              "  background: var(--sklearn-color-unfitted-level-0);\n",
              "  border: .5pt solid var(--sklearn-color-unfitted-level-3);\n",
              "}\n",
              "\n",
              ".sk-estimator-doc-link.fitted span {\n",
              "  /* fitted */\n",
              "  background: var(--sklearn-color-fitted-level-0);\n",
              "  border: var(--sklearn-color-fitted-level-3);\n",
              "}\n",
              "\n",
              ".sk-estimator-doc-link:hover span {\n",
              "  display: block;\n",
              "}\n",
              "\n",
              "/* \"?\"-specific style due to the `<a>` HTML tag */\n",
              "\n",
              "#sk-container-id-1 a.estimator_doc_link {\n",
              "  float: right;\n",
              "  font-size: 1rem;\n",
              "  line-height: 1em;\n",
              "  font-family: monospace;\n",
              "  background-color: var(--sklearn-color-background);\n",
              "  border-radius: 1rem;\n",
              "  height: 1rem;\n",
              "  width: 1rem;\n",
              "  text-decoration: none;\n",
              "  /* unfitted */\n",
              "  color: var(--sklearn-color-unfitted-level-1);\n",
              "  border: var(--sklearn-color-unfitted-level-1) 1pt solid;\n",
              "}\n",
              "\n",
              "#sk-container-id-1 a.estimator_doc_link.fitted {\n",
              "  /* fitted */\n",
              "  border: var(--sklearn-color-fitted-level-1) 1pt solid;\n",
              "  color: var(--sklearn-color-fitted-level-1);\n",
              "}\n",
              "\n",
              "/* On hover */\n",
              "#sk-container-id-1 a.estimator_doc_link:hover {\n",
              "  /* unfitted */\n",
              "  background-color: var(--sklearn-color-unfitted-level-3);\n",
              "  color: var(--sklearn-color-background);\n",
              "  text-decoration: none;\n",
              "}\n",
              "\n",
              "#sk-container-id-1 a.estimator_doc_link.fitted:hover {\n",
              "  /* fitted */\n",
              "  background-color: var(--sklearn-color-fitted-level-3);\n",
              "}\n",
              "</style><div id=\"sk-container-id-1\" class=\"sk-top-container\"><div class=\"sk-text-repr-fallback\"><pre>MultinomialNB()</pre><b>In a Jupyter environment, please rerun this cell to show the HTML representation or trust the notebook. <br />On GitHub, the HTML representation is unable to render, please try loading this page with nbviewer.org.</b></div><div class=\"sk-container\" hidden><div class=\"sk-item\"><div class=\"sk-estimator fitted sk-toggleable\"><input class=\"sk-toggleable__control sk-hidden--visually\" id=\"sk-estimator-id-1\" type=\"checkbox\" checked><label for=\"sk-estimator-id-1\" class=\"sk-toggleable__label fitted sk-toggleable__label-arrow fitted\">&nbsp;&nbsp;MultinomialNB<a class=\"sk-estimator-doc-link fitted\" rel=\"noreferrer\" target=\"_blank\" href=\"https://scikit-learn.org/1.4/modules/generated/sklearn.naive_bayes.MultinomialNB.html\">?<span>Documentation for MultinomialNB</span></a><span class=\"sk-estimator-doc-link fitted\">i<span>Fitted</span></span></label><div class=\"sk-toggleable__content fitted\"><pre>MultinomialNB()</pre></div> </div></div></div></div>"
            ],
            "text/plain": [
              "MultinomialNB()"
            ]
          },
          "execution_count": 13,
          "metadata": {},
          "output_type": "execute_result"
        }
      ],
      "source": [
        "#fit Naive Bayes\n",
        "model = MultinomialNB()\n",
        "model.fit(X_train_vectorized, y_train)"
      ]
    },
    {
      "cell_type": "markdown",
      "metadata": {
        "id": "e91599bd-5a82-4efb-ba72-3b2ed270d8e9"
      },
      "source": [
        "Q5: Evaluate the accuracy of the Multinomial Naive Bayes algorithm. (code required)"
      ]
    },
    {
      "cell_type": "code",
      "execution_count": 14,
      "metadata": {
        "colab": {
          "base_uri": "https://localhost:8080/"
        },
        "id": "jzGzrfexJLqv",
        "outputId": "81cd0fb9-799d-4e61-9701-f9107aff990a"
      },
      "outputs": [
        {
          "name": "stdout",
          "output_type": "stream",
          "text": [
            "Accuracy: 0.6827277514481306\n",
            "              precision    recall  f1-score   support\n",
            "\n",
            "    Negative       0.71      0.77      0.74      1633\n",
            "     Neutral       0.62      0.20      0.30       619\n",
            "    Positive       0.66      0.78      0.72      1546\n",
            "\n",
            "    accuracy                           0.68      3798\n",
            "   macro avg       0.67      0.58      0.59      3798\n",
            "weighted avg       0.68      0.68      0.66      3798\n",
            "\n"
          ]
        }
      ],
      "source": [
        "from sklearn import metrics\n",
        "X_test_vectorized = vectorizer.transform(cleaned_test.OriginalTweet)\n",
        "y_pred = model.predict(X_test_vectorized)\n",
        "\n",
        "accuracy = accuracy_score(cleaned_test.Sentiment, y_pred)\n",
        "print(\"Accuracy:\", accuracy)\n",
        "\n",
        "print(metrics.classification_report(cleaned_test.Sentiment,y_pred))"
      ]
    }
  ],
  "metadata": {
    "colab": {
      "provenance": []
    },
    "kernelspec": {
      "display_name": "venv",
      "language": "python",
      "name": "python3"
    },
    "language_info": {
      "codemirror_mode": {
        "name": "ipython",
        "version": 3
      },
      "file_extension": ".py",
      "mimetype": "text/x-python",
      "name": "python",
      "nbconvert_exporter": "python",
      "pygments_lexer": "ipython3",
      "version": "3.9.6"
    }
  },
  "nbformat": 4,
  "nbformat_minor": 0
}